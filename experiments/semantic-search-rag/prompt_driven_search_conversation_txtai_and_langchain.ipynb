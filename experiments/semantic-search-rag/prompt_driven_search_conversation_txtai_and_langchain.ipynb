{
  "cells": [
    {
      "cell_type": "code",
      "execution_count": 1,
      "metadata": {
        "id": "OUc9gqTyAYnm"
      },
      "outputs": [],
      "source": [
        "from txtai.embeddings import Embeddings\n",
        "from langchain.chat_models import ChatOllama\n",
        "from langchain.schema import HumanMessage, SystemMessage"
      ]
    },
    {
      "cell_type": "code",
      "execution_count": 2,
      "metadata": {},
      "outputs": [],
      "source": [
        "# Disable warnings\n",
        "import warnings\n",
        "warnings.filterwarnings('ignore')"
      ]
    },
    {
      "cell_type": "code",
      "execution_count": 3,
      "metadata": {},
      "outputs": [],
      "source": [
        "# Define constants\n",
        "EMBEDDINGS_PATH = './text_embeddings'\n",
        "LLM_MODEL = 'mistral:7b'"
      ]
    },
    {
      "cell_type": "code",
      "execution_count": 4,
      "metadata": {},
      "outputs": [],
      "source": [
        "# Load the embeddings\n",
        "embeddings = Embeddings()\n",
        "embeddings.load(EMBEDDINGS_PATH)"
      ]
    },
    {
      "cell_type": "code",
      "execution_count": 5,
      "metadata": {},
      "outputs": [],
      "source": [
        "# Load the LLM model\n",
        "chat = ChatOllama(\n",
        "    model=LLM_MODEL,\n",
        "    temperature=0.8,\n",
        ")"
      ]
    },
    {
      "cell_type": "code",
      "execution_count": 6,
      "metadata": {},
      "outputs": [
        {
          "name": "stdout",
          "output_type": "stream",
          "text": [
            "Raw Results:\n",
            " ['Microsoft began rolling out its Windows 10 operating system Wednesday, aiming to revive the tech giant´s fortunes, especially in mobile and the \"Internet of Things.\"The stakes are high for Microsoft as it pushes out the new operating system for both traditional computers and mobile devices such as tablets and smartphones.The US tech giant is hoping the new system can help it gain traction in mobile, where it lags behind Google Android and Apple iOS.\"Our vision was one platform, one store, and one experience that extends across the broadest range of devices from the smallest screens to the largest screens to no screens at all,\" said Microsoft executive vice president for Windows Terry Myerson in a blog post.\"Windows 10 begins to deliver on our vision for more personal computing. In this world experiences are mobile, moving with you seamlessly and easily across your devices. Interacting with technology is as natural as interacting with people -- using voice, pen, gestures and even gaze for the right interaction, in the right way, at the right time. And in our connected and transparent world, we respect your privacy and help protect your information.\"Forrester Research analyst Frank Gillett said Microsoft faces a tough task in catching up with Google and Apple in the mobile space.\"Microsoft will face a long road ahead to gain Windows share in mobile,\" he said.\"While it will win a growing share of enterprise tablet purchases, the plans for Windows 10 don´t show enough potential to create a differentiated mobile experience that will draw developers and customers away from iOS and Android.\"Richard Edwards, analyst at the consultancy Ovum, said Microsoft is looking beyond mobile to emerging technologies including wearables and other connected devices.\"This isn´t about recapturing the important mobile operating systems market,\" Edwards said.\"It´s about gaining a strong foothold in the next multibillion dollar market: the ´Internet of Things.´\"- Skipping to Windows 10 -Windows 10 -- Microsoft skipped directly from Windows 8, which got a lackluster response -- is being offered as a free upgrade for most devices, making it possible to be available quickly on billions of devices.It will allow for voice, pen and gesture input, and in some cases biometric identification for improved security.The Cortana virtual assistant -- Microsoft´s answer to Apple´s Siri and Google Now -- will also be integrated.And Windows 10 will include the Microsoft Edge browser, a move designed to help the tech giant regain market share lost to rivals such as Mozilla Firefox and Google Chrome.Microsoft hopes to break the cycle in which consumers shun Windows for mobile because it lacks the large catalog of applications found on rival platforms, thus discouraging app makers from creating Windows versions.Hit apps could ramp up popularity of Windows-driven hardware made by Microsoft and its partners, and increase opportunities for the company to make money from online activities such as search, shopping and software as services in the Internet cloud.With Windows 10 and other products, Microsoft is shifting away from one-time software sales to a subscription model -- or software as a service -- in an effort to better compete in the new tech landscape.Bob O´Donnell at the research firm Technalysis said the new operating system may help stimulate new sales of computers and other hardware -- a phenomenon of the past which has been absent in recent Windows releases.\"I´m still hopeful that the PC industry will see some decent upside from Windows 10, particularly in the fourth quarter of this year and into 2016,\" he said.\"The primary reason for my optimism is that Microsoft has actually integrated quite a few new capabilities into Windows 10 that will benefit from new hardware.\" \\r\\n\\r\\n\\r\\n\\r\\n\\r\\n\\r\\n\\r\\n\\r\\n\\r\\n\\r\\n\\r\\n', 'Microsoft said Tuesday it posted a profit of $3.1 billion in the just-ended quarter, swinging back into the black a year after hefty charges from writing off mobile phone assets.</strong\"This past year was pivotal in both our own transformation and in partnering with our customers who are navigating their own digital transformations,\" said chief executive Satya Nadella.', 'Microsoft Devices Pakistan announced the availability of Nokia 215 Dual SIM, its most affordable Internet-ready phone, in the country. The Nokia 215 Dual SIM is designed to connect and introduce first-time mobile phone buyers to the Internet and new digital experiences. The Nokia 215 Dual SIM will expand the reach of Microsoft services at more affordable prices.Nokia 215 Dual SIM will allow more people to access popular Web content and digital services, and enable them to enjoy online experiences via Opera Mini browser, Bing search, MSN Weather, Twitter and Facebook. People can stay in touch with friends and family using Facebook and Messenger with instant notifications. With SLAM, people can share content between devices and make hands-free calls using Bluetooth 3.0.With a fresh design, durable quality and outstanding battery life, this entry-level mobile phone is an owner\\x92s delight. It has all the essentials for a mobile-first world such as built-in torchlight, up to 20 hours of talk-time, outstanding battery life (up to 21 days for the Dual SIM), MP3 playback of up to 50 hours, FM radio playback of up to 45 hours and a VGA camera.Commenting at the launch of Nokia 215 Dual SIM, Kamran Khan, Country General Manager, Microsoft Mobile Devices Pakistan said: \\x93With our ultra-affordable mobile phones and digital services, we see an inspiring opportunity to connect the next billion people to the Internet for the first time. The Nokia 215 Dual SIM is perfect for people looking for their first mobile device, or those wanting to upgrade to enjoy affordable digital and social media services, like Facebook and Messenger.\\x94The Nokia 215 Dual SIM comes in Bright Green, Black and White, and will be available for an estimated retail price of PKR 4,100/-.                        \\r\\n\\r\\n\\r\\n\\r\\n\\r\\n\\r\\n\\r\\n\\r\\n\\r\\n\\r\\n\\r\\n', 'Pakistani nation is ready to walk in the right directions with the help of country\\x92s first indigenously developed digital mapping solution.</strongThe country\\x92s largest tracking solutions provider TPL Trakker has launched TPL Maps, created using state-of-the-art technology, are inlayed with smart features that provide real-time intelligent routing, live traffic updates, turn-by-turn navigation options and smart search amongst a host of other features.Briefing about the digital maps, Ali Jameel, CEO, TPL Trakker Ltd. Stated, \\x93TPL Maps have been developed indigenously and I firmly believe that these localized mapping solutions will provide a holistic navigational experience to people all over Pakistan,\\x94 and added \\x93Globally, maps have taken the center stage for e-commerce, fintech, advertising and games.\\x94He said today we have enabled Pakistan to leverage the power of Maps for businesses, consumers and the Government sector.\\x93This is just the beginning of a new era for technology in the country and we are honored to be in the driving seat of this change,\\x94 he maintained.He said these maps also correctly showcase Kashmir and Gilgit-Baltistan as a part of Pakistan.Company\\x92s Product Manager Asim Mushtaq and the Head of Maps Adeel Hashmi were also present at the occasion and briefed the media.Adeel Hashmi said that with over 22,000 hours of research, TPL Maps have been developed with data collected over the last 15 years by a dedicated team of over 100 IT &amp; GIS analysts who have worked diligently to make these maps a reality.\\x93TPL Trakker aims to add further innovation and exciting features in upcoming releases,\\x94 he added.Asim Mushtaq said the TPL Maps boost of 1.5 million points-of-interest (POIs) \\x96 this is the highest number of POIs compared to any other mapping service in Pakistan.\\x93With close to a million housing addresses, the largest collection of housing data ever recorded, TPL Maps have approximately 1,000 3D building models and approximately 300,000 kilometers of road network mapped across the country,\\x94 he concluded.TPL Maps app can be downloaded from Google Play Store and Apple App Store.', 'Pakistani nation is ready to walk in the right directions with the help of country\\x92s first indigenously developed digital mapping solution.</strongThe country\\x92s largest tracking solutions provider TPL Trakker has launched TPL Maps, created using state-of-the-art technology, are inlayed with smart features that provide real-time intelligent routing, live traffic updates, turn-by-turn navigation options and smart search amongst a host of other features.Briefing about the digital maps, Ali Jameel, CEO, TPL Trakker Ltd. Stated, \\x93TPL Maps have been developed indigenously and I firmly believe that these localized mapping solutions will provide a holistic navigational experience to people all over Pakistan,\\x94 and added \\x93Globally, maps have taken the center stage for e-commerce, fintech, advertising and games.\\x94He said today we have enabled Pakistan to leverage the power of Maps for businesses, consumers and the Government sector.\\x93This is just the beginning of a new era for technology in the country and we are honored to be in the driving seat of this change,\\x94 he maintained.He said these maps also correctly showcase Kashmir and Gilgit-Baltistan as a part of Pakistan.Company\\x92s Product Manager Asim Mushtaq and the Head of Maps Adeel Hashmi were also present at the occasion and briefed the media.Adeel Hashmi said that with over 22,000 hours of research, TPL Maps have been developed with data collected over the last 15 years by a dedicated team of over 100 IT &amp; GIS analysts who have worked diligently to make these maps a reality.\\x93TPL Trakker aims to add further innovation and exciting features in upcoming releases,\\x94 he added.Asim Mushtaq said the TPL Maps boost of 1.5 million points-of-interest (POIs) \\x96 this is the highest number of POIs compared to any other mapping service in Pakistan.\\x93With close to a million housing addresses, the largest collection of housing data ever recorded, TPL Maps have approximately 1,000 3D building models and approximately 300,000 kilometers of road network mapped across the country,\\x94 he concluded.TPL Maps app can be downloaded from Google Play Store and Apple App Store.']\n",
            "----------------------------------------------------------------------------------------------------\n",
            "LLM Answer:\n",
            "  Microsoft Corporation is an American multinational technology company headquartered in Redmond, Washington. It was founded by Paul Allen and Bill Gates on April 4, 1975. The company's best known software products are the Microsoft Windows line of operating systems, the Microsoft Office suite, and the Internet Explorer and Edge web browsers. Its flagship hardware products include the Microsoft Surface lineup of touchscreen personal computers, the Microsoft Band line of fitness trackers, and the Microsoft HoloLens mixed reality headset.\n",
            "\n",
            "Microsoft is also known for its digital services such as the Azure cloud computing platform, the MSN tech brand, and the LinkedIn business network. The company was revolutionized under the management of Satya Nadella since 2014, with a re-focusing on cloud computing, digital services, devices, and solutions that integrate intelligence into its products and services.\n",
            "\n",
            "Microsoft Pakistan specifically has announced the availability of Nokia 215 Dual SIM, Microsoft's most affordable Internet-ready phone, in the country. The company also recently launched TPL Maps, an indigenously developed digital mapping solution by TPL Trakker Ltd., which provides real-time intelligent routing, live traffic updates, turn-by-turn navigation options and smart search amongst a host of other features.\n"
          ]
        }
      ],
      "source": [
        "def prompt(query, results):\n",
        "  return f\"\"\"Generate a comprehensive and informative, yet concise answer of 250 words or less for the\n",
        "given question based solely on the provided context. You must only use information from the provided context.\n",
        "You should use bullet points in your answer for readability. Put citations where they apply\n",
        "rather than putting them all at the end.\n",
        "If there is nothing in the context relevant to the question at hand, just say \"Hmm,\n",
        "I'm not sure.\" Don't try to make up an answer.\n",
        "Question: {query}\n",
        "Context: {results}\"\"\"\n",
        "\n",
        "query = \"What are the things that you know about Microsoft?\"\n",
        "number_of_results = 5\n",
        "results = [embeddings.search(query, number_of_results)[i]['text'] for i in range(number_of_results)]\n",
        "answer = chat(\n",
        "    [\n",
        "        SystemMessage(content=prompt(query, results)),\n",
        "        HumanMessage(content=query),\n",
        "    ]\n",
        ").content\n",
        "\n",
        "print(\"Raw Results:\\n\", results)\n",
        "print('-' * 100)\n",
        "print(\"LLM Answer:\\n\", answer)"
      ]
    }
  ],
  "metadata": {
    "accelerator": "GPU",
    "colab": {
      "provenance": []
    },
    "gpuClass": "standard",
    "kernelspec": {
      "display_name": "Python 3",
      "name": "python3"
    },
    "language_info": {
      "codemirror_mode": {
        "name": "ipython",
        "version": 3
      },
      "file_extension": ".py",
      "mimetype": "text/x-python",
      "name": "python",
      "nbconvert_exporter": "python",
      "pygments_lexer": "ipython3",
      "version": "3.10.12"
    }
  },
  "nbformat": 4,
  "nbformat_minor": 0
}

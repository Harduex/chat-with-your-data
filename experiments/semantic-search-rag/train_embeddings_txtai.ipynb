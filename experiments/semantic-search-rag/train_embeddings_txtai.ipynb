{
 "cells": [
  {
   "cell_type": "code",
   "execution_count": 1,
   "metadata": {},
   "outputs": [],
   "source": [
    "from txtai import Embeddings\n",
    "import os\n",
    "import pandas as pd\n",
    "import re"
   ]
  },
  {
   "cell_type": "code",
   "execution_count": 2,
   "metadata": {},
   "outputs": [],
   "source": [
    "# Define constants\n",
    "DATA_DIR = '../datasets'\n",
    "FILE_NAME = 'Articles.csv'\n",
    "EMBEDDINGS_PATH = './text_embeddings'\n",
    "EMBEDDINGS_MODEL = 'sentence-transformers/nli-mpnet-base-v2'"
   ]
  },
  {
   "cell_type": "code",
   "execution_count": 3,
   "metadata": {},
   "outputs": [
    {
     "data": {
      "text/html": [
       "<div>\n",
       "<style scoped>\n",
       "    .dataframe tbody tr th:only-of-type {\n",
       "        vertical-align: middle;\n",
       "    }\n",
       "\n",
       "    .dataframe tbody tr th {\n",
       "        vertical-align: top;\n",
       "    }\n",
       "\n",
       "    .dataframe thead th {\n",
       "        text-align: right;\n",
       "    }\n",
       "</style>\n",
       "<table border=\"1\" class=\"dataframe\">\n",
       "  <thead>\n",
       "    <tr style=\"text-align: right;\">\n",
       "      <th></th>\n",
       "      <th>Article</th>\n",
       "      <th>Date</th>\n",
       "      <th>Heading</th>\n",
       "      <th>NewsType</th>\n",
       "    </tr>\n",
       "  </thead>\n",
       "  <tbody>\n",
       "    <tr>\n",
       "      <th>0</th>\n",
       "      <td>KARACHI: The Sindh government has decided to b...</td>\n",
       "      <td>1/1/2015</td>\n",
       "      <td>sindh govt decides to cut public transport far...</td>\n",
       "      <td>business</td>\n",
       "    </tr>\n",
       "    <tr>\n",
       "      <th>1</th>\n",
       "      <td>HONG KONG: Asian markets started 2015 on an up...</td>\n",
       "      <td>1/2/2015</td>\n",
       "      <td>asia stocks up in new year trad</td>\n",
       "      <td>business</td>\n",
       "    </tr>\n",
       "    <tr>\n",
       "      <th>2</th>\n",
       "      <td>HONG KONG:  Hong Kong shares opened 0.66 perce...</td>\n",
       "      <td>1/5/2015</td>\n",
       "      <td>hong kong stocks open 0.66 percent lower</td>\n",
       "      <td>business</td>\n",
       "    </tr>\n",
       "    <tr>\n",
       "      <th>3</th>\n",
       "      <td>HONG KONG: Asian markets tumbled Tuesday follo...</td>\n",
       "      <td>1/6/2015</td>\n",
       "      <td>asian stocks sink euro near nine year</td>\n",
       "      <td>business</td>\n",
       "    </tr>\n",
       "    <tr>\n",
       "      <th>4</th>\n",
       "      <td>NEW YORK: US oil prices Monday slipped below $...</td>\n",
       "      <td>1/6/2015</td>\n",
       "      <td>us oil prices slip below 50 a barr</td>\n",
       "      <td>business</td>\n",
       "    </tr>\n",
       "  </tbody>\n",
       "</table>\n",
       "</div>"
      ],
      "text/plain": [
       "                                             Article      Date   \n",
       "0  KARACHI: The Sindh government has decided to b...  1/1/2015  \\\n",
       "1  HONG KONG: Asian markets started 2015 on an up...  1/2/2015   \n",
       "2  HONG KONG:  Hong Kong shares opened 0.66 perce...  1/5/2015   \n",
       "3  HONG KONG: Asian markets tumbled Tuesday follo...  1/6/2015   \n",
       "4  NEW YORK: US oil prices Monday slipped below $...  1/6/2015   \n",
       "\n",
       "                                             Heading  NewsType  \n",
       "0  sindh govt decides to cut public transport far...  business  \n",
       "1                    asia stocks up in new year trad  business  \n",
       "2           hong kong stocks open 0.66 percent lower  business  \n",
       "3             asian stocks sink euro near nine year   business  \n",
       "4                 us oil prices slip below 50 a barr  business  "
      ]
     },
     "execution_count": 3,
     "metadata": {},
     "output_type": "execute_result"
    }
   ],
   "source": [
    "# Load the data\n",
    "if os.path.isfile(os.path.join(DATA_DIR, FILE_NAME)):\n",
    "    df = pd.read_csv(os.path.join(DATA_DIR, FILE_NAME), encoding='latin1')\n",
    "\n",
    "df.head()"
   ]
  },
  {
   "cell_type": "code",
   "execution_count": 4,
   "metadata": {},
   "outputs": [
    {
     "data": {
      "text/plain": [
       "['The Sindh government has decided to bring down public transport fares by 7 per cent due to massive reduction in petroleum product prices by the federal government, Geo News reported.Sources said reduction in fares will be applicable on public transport, rickshaw, taxi and other means of traveling.Meanwhile, Karachi Transport Ittehad (KTI) has refused to abide by the government decision.KTI President Irshad Bukhari said the commuters are charged the lowest fares in Karachi as compare to other parts of the country, adding that 80pc vehicles run on Compressed Natural Gas (CNG). Bukhari said Karachi transporters will cut fares when decrease in CNG prices will be made.                        \\r\\n\\r\\n\\r\\n\\r\\n\\r\\n\\r\\n\\r\\n\\r\\n\\r\\n\\r\\n\\r\\n',\n",
       " 'Asian markets started 2015 on an upswing in limited trading on Friday, with mainland Chinese stocks surging in Hong Kong on speculation Beijing may ease monetary policy to boost slowing growth.Hong Kong rose 1.07 percent, closing 252.78 points higher at 23857.82.Seoul closed up 0.57 percent, rising 10.85 points to 1,926.44, while Sydney gained 0.46 percent, or 24.89 points, to close at 5,435.9.Singapore edged up 0.19 percent, gaining 6.39 points to 3,371.54.Markets in mainland China, Japan, Taiwan, New Zealand, the Philippines, and Thailand remained closed for holidays.With mainland bourses shut until January 5, shares in Chinese developers and financial companies surged in Hong Kong, stoked by hopes that Beijing could ease monetary policy to support lagging growth in the world´s second-largest economy.China Vanke, the country´s biggest developer by sales, leapt 10.8 percent and the People´s Insurance Company (Group) of China Ltd. was up 5.51 percent in afternoon trading.Train-builders CSR Corp. and China CNR Corp. soared -- CSR by 16.5 percent and China CNR by 16.0 percent -- extending gains on December 31 after they announced a merger agreement.China´s manufacturing growth dropped in December to its lowest level of 2014, an official survey showed Thursday, as the sector struggles with weak domestic demand.China´s official Purchasing Managers´ Index (PMI) released by the National Bureau of Statistics (NBS) came in at 50.1 last month, down from 50.3 recorded in November.The index, which tracks activity in factories and workshops, is considered a key indicator of the health of China´s economy, a major driver of global growth. A figure above 50 signals expansion, while anything below indicates contraction.\"Growth momentum is still insufficient,\" NBS said in a statement. - Investors eye US factory data -On forex markets the dollar extended gains ahead of the release of American factory data due later on Friday and following a steady stream of good news from the world´s biggest economy.The dollar bought 120.44 yen, compared to 119.44 yen in final 2014 trading on Wednesday.Wall Street toasted a banner year in 2014, with US equity markets finishing near all-time highs.The euro meanwhile slipped amid growing expectations that the European Central Bank, which meets on January 22, will start buying sovereign bonds. The single currency bought $1.2061 compared to $1.2160 in pre-holiday trade.The ECB has already used several tools to push inflation in member nations back up to the 2.0 percent annual rate it regards as healthy, including asset purchases and making cheap loans available to banks.It is also examining the possibility of large-scale purchases of sovereign debt -- so-called quantitative easing (QE) -- to help jump-start the European Union´s moribund economy.Oil prices rose on Friday, with US benchmark West Texas Intermediate for February delivery rising 44 cents to $54.07 and Brent crude for February gaining 18 cents to $57.51.\"The gains in Asian trading are likely because of the positive US crude stockpiles data released on Wednesday,\" Daniel Ang, investment analyst at Phillip Futures in Singapore, told AFP.US crude reserves fell by 1.8 million barrels in the week to December 26, the US Energy Information Administration said in its last petroleum report for 2014 released on Wednesday, boosting prices that lost nearly half their value in the second half of the year.There is growing speculation that the slide in global oil prices -- the biggest since the financial crisis in 2008 -- may have been excessive.\"If we do see some supply-side responses, or even if they´re anticipated over the course of this first quarter of the year, we might find that oil has in fact bottomed,\" Michael McCarthy, a chief strategist at CMC Markets in Sydney, told Bloomberg.Gold was at $1,182.36 an ounce, compared with $1,199.00 in end-of-year trading on Wednesday.In other markets:-- Jakarta ended up 0.30 percent, or 15.82 points, at 5,242.77.Coal firm Indo Tambangraya Megah gained 3.41 percent to 15,900 rupiah, while miner Aneka Tambang slipped 1.88 percent to 1,045 rupiah.-- Malaysia´s main stock index shed 0.48 percent, or 8.48 points, to close at 1,752.77.Malayan Banking lost 0.55 percent to 9.12 ringgit, Public Bank slipped 0.44 percent to 18.22 while Top Globe added 1.77 percent 4.60 ringgit.-- Singapore rose 0.16 percent, or 5.44 points, to 3,370.59.Agribusiness company Wilmar International gained 0.93 percent to Sg$3.27 while real estate developer Capitaland dipped 0.30 percent to Sg$3.30.-- Mumbai gained 1.38 percent, or 380.36 points, to end at 27,887.90.Housing Development Finance Corp rose 4.30 percent to 1,171.80 rupees, while Mahindra & Mahindra fell 0.92 percent to 1,224.80 rupees. (AFP)                        \\r\\n\\r\\n\\r\\n\\r\\n\\r\\n\\r\\n\\r\\n\\r\\n\\r\\n\\r\\n\\r\\n',\n",
       " 'Hong Kong shares opened 0.66 percent lower Monday following a tepid lead from Wall Street, as the first full week of the new year kicked off.The benchmark Hang Seng Index dipped 158.63 points to 23,699.19. \\r\\n\\r\\n\\r\\n\\r\\n\\r\\n\\r\\n\\r\\n\\r\\n\\r\\n\\r\\n\\r\\n',\n",
       " 'Asian markets tumbled Tuesday following painful losses in New York and Europe while the euro sat near nine-year lows as political uncertainty in Greece fanned renewed fears it could leave the eurozone.Oil prices, which fell below the psychological $50 a barrel mark in US trade, edged up marginally but remained under pressure owing to a global supply glut, weak demand and a stronger dollar.Tokyo tumbled 2.50 percent, Hong Kong lost 0.89 percent, Sydney eased 1.67 percent, Seoul was 1.30 percent lower while Shanghai reversed earlier losses to gain 0.70 percent.The first full week of the new year got off to a traumatic start for dealers as they bet a January 25 general election in Greece will see a victory for the the left-wing Syriza party.Markets fear the party will roll back austerity measures required under the IMF-EU bailout of the country, which could in turn lead it to exit the eurozone.The year is \"barely three trading days old and already the two biggest themes that were predicted to affect the markets this year are making headlines: oversupply of commodities and the eurozone,\" Evan Lucas, a markets strategist in Melbourne at IG Ltd., wrote in an email to clients, according to Bloomberg News.At the weekend, Der Spiegel quoted German government sources as saying they consider Greece´s exit \"almost inevitable\" if Syriza wins the snap poll.Chancellor Angela Merkel and finance minister Wolfgang Schaeuble had come to consider Athens´ removal from the bloc would be \"manageable\", the magazine said.However, investors were spooked and on Monday Greek stocks sank more than 5 percent, while the Paris, Madrid and Milan exchanges fell more than 3 percent.- Oil below $50 a barrel -The Dow dived 1.86 percent, the S&P 500 fell 1.83 percent and the Nasdaq lost 1.57 percent.In currency trade the euro sank to $1.1864 Monday, its lowest level since March 2006. On Tuesday morning the single currency recovered slightly buying $1.1943.The euro was meanwhile at 142.58 yen against 142.74 yen in US trade and well down from the 144.58 yen Friday.Adding to downward pressure is increased speculation that the European Central Bank will buy eurozone government bonds to counter deflation risks.The dollar was at 119.40 yen early Tuesday, compared with 119.61 in New York Monday and also well down from 120.46 yen Friday.Oil prices were marginally up Tuesday after slipping below $50 for the first time in more than five years in New York.US benchmark West Texas Intermediate for February delivery rose eight cents to $50.12 while Brent crude for February gained 14 cents to $53.25. WTI tapped $49.95 Monday.The cost of crude has plunged since June as supplies outstrip demand with key consumer China slowing down, the eurozone struggling and the dollar, in which it is priced, strengthening.A decision late last year by the Organization of the Petroleum Exporting Countries (OPEC) to maintain output despite the glut has also cut into prices.\"The fundamentals of oil are unlikely to change in the first half of this year, which will see oil bedding down into its bear market for months to come,\" IG´s Lucas said.Gold was at $1,203.59.40 an ounce, compared with $1,196.40 on Monday. (AFP)                        \\r\\n\\r\\n\\r\\n\\r\\n\\r\\n\\r\\n\\r\\n\\r\\n\\r\\n\\r\\n\\r\\n',\n",
       " 'US oil prices Monday slipped below $50 a barrel for the first time in more than five years as the surging dollar and news of additional supplies extended a six-month rout.US benchmark West Texas Intermediate for February delivery, in free fall since June, ended at $50.04 a barrel, down $2.65 or five percent. The contract got as low as $49.95 a barrel earlier in the session, its lowest level since May 1, 2009.European benchmark Brent oil for February delivery fell $3.31 to $53.11 a barrel in London.Monday´s slide in oil prices followed indications of rising output from key producers Russia and Iraq at a time when forecasters have trimmed their demand projections due to weak global economic growth.The breaching of the psychologically important $50 level also came on a turbulent day for global financial markets. US stocks fell nearly two percent, approaching the drops in European equity markets as the euro plunged to a nine-year low on revived eurozone worries.A long rally in the greenback, which gained 11 percent last year against a basket of major currencies, has weighed on the dollar-priced oil market by making crude more expensive for buyers using weaker currencies.Oil prices could fall further still, analysts say.\"There´s serious concern the bottom´s not in yet,\" said Kyle Cooper, managing partner at IAF Advisors in Houston. \"Basically everyone who´s taken a stab at the bottom has been wrong.\"\"Oil prices attempted to stabilize during the last two weeks, but the fundamentals remain weak,\" said Gene McGillian, broker and analyst at Tradition Energy. \"The market is trying to come to a bottom. It could be anybody´s guess, but it appears we still have more to go.\"Fawad Razaqzada, a technical analyst at Forex.com., said the drop below $50 a barrel could trigger more selling, paving the way for oil to fall as low as $45 or $40 a barrel in the coming weeks.-Weak fundamentals-The retreat in prices comes on the heels of a multi-year boom in US oil production that has shaken the global petroleum market and put the US in a league with oil giants Russia and Saudi Arabia.Other leading producers are also pumping aggressively. Iraq´s oil ministry last week released figures showing that December crude exports reached their highest since 1980.Meanwhile, the Organization of the Petroleum Exporting Countries has consistently ruled out action despite the months-long slide in prices.In November, the cartel met in Vienna and took no action, as key powerbrokers like Saudi Arabian oil minister Ali al-Naimi said he preferred for the market to balance itself. In December, Naimi told a Middle East publication the group would take the same hands-off approach even if oil fell to $20 a barrel.Meanwhile, economic growth remains uncertain in Europe and in many emerging economies, such as China and Brazil. The International Energy Agency in December projected global crude inventories could rise by nearly 300 million barrels in the first six months of 2015. The agency also cut its demand outlook by more than 200,000 barrels a day for 2015.Energy equities, by far the worst performing sector in the S&P 500 last year, suffered more pain Monday. Dow member Chevron fell 4.0 percent, while oil-services giant Schlumberger lost 2.6 percent.Key US oil companies like ConocoPhillips and shale producer Continental Resources have cut their drilling budgets for 2015.Still, analysts expect US output to continue to rise this year, owing to investments that have already been made. That will put more pressure on crude prices.\"I still think one of the primary drivers of the market is US oil production and I really don´t see US oil production growth slowing appreciably in the first quarter,\" Cooper said. (AFP)                        \\r\\n\\r\\n\\r\\n\\r\\n\\r\\n\\r\\n\\r\\n\\r\\n\\r\\n\\r\\n\\r\\n']"
      ]
     },
     "execution_count": 4,
     "metadata": {},
     "output_type": "execute_result"
    }
   ],
   "source": [
    "# Data pre-processing\n",
    "data = df['Article'].tolist()\n",
    "data = [re.split(\": *\", text, 1)[1] for text in data if \":\" in text]\n",
    "data[:5]"
   ]
  },
  {
   "cell_type": "code",
   "execution_count": 5,
   "metadata": {},
   "outputs": [],
   "source": [
    "# Load the embeddings model\n",
    "embeddings = Embeddings({\"path\": EMBEDDINGS_MODEL, \"content\": True})"
   ]
  },
  {
   "cell_type": "code",
   "execution_count": 6,
   "metadata": {},
   "outputs": [],
   "source": [
    "# Index the data into the embeddings model\n",
    "embeddings.index(data)"
   ]
  },
  {
   "cell_type": "code",
   "execution_count": 7,
   "metadata": {},
   "outputs": [],
   "source": [
    "# Save the embeddings model\n",
    "embeddings.save(EMBEDDINGS_PATH)"
   ]
  },
  {
   "cell_type": "code",
   "execution_count": 8,
   "metadata": {},
   "outputs": [],
   "source": [
    "# Load the embeddings\n",
    "embeddings.load(EMBEDDINGS_PATH)"
   ]
  },
  {
   "cell_type": "code",
   "execution_count": 9,
   "metadata": {},
   "outputs": [
    {
     "data": {
      "text/plain": [
       "[{'id': '791',\n",
       "  'text': 'Scientists from India, the United States and Japan have struck upon a large natural gas deposit in the Bay of Bengal, the first potentially producible discovery of its kind in the Indian Ocean.</strongA research expedition carried out jointly by the three countries discovered the natural gas hydrate -- an ice-like form of the fuel -- off India´s east coast, the United States Geological Survey (USGS) said in a statement Monday.Energy-hungry India is heavily dependent on imports to meet its oil and gas needs and is hungry to secure more of its own supplies.\"The results from this expedition mark a critical step forward to understanding the energy resource potential of gas hydrates,\" said USGS Senior Scientist Tim Collett.The discovery in the sand reservoirs of the Krishna-Godavari Basin contains \"what we believe to be several of the largest and most concentrated gas hydrate accumulations yet found in the world,\" Collett said.The amount of natural gas locked in hydrate form worldwide is believed to be far greater than the volume of all known conventional gas resources, USGS said.Yet producing the fuel from hydrates is extremely technically challenging.\"Advances like the Bay of Bengal discovery will help unlock the global energy resource potential of gas hydrates as well help define the technology needed to safely produce them,\" said Walter Guidroz, USGS Energy Resources Program coordinator.The next steps will involve testing to determine if production of the deposits is practically and economically viable.The expedition involved experts from India´s Oil and Natural Gas Corporation and USGS as well as Japanese drilling and marine-earth specialists.',\n",
       "  'score': 0.39633679389953613},\n",
       " {'id': '2414',\n",
       "  'text': 'BMW Group announced Wednesday it would deploy 40 self-driving vehicles for tests in the United States and Europe.The German auto group made the announcement at the Consumer Electronics Show in Las Vegas jointly with US computer chip giant Intel and the Israeli-based auto technology firm Mobileye.\"Making autonomous driving a reality for our customers is the shared ambition behind our cooperation with Intel and Mobileye,\" said BMW board member Klaus Froehlich in a statement, who said the tests would be a major step toward achieving a fully autonomous vehicle by 2021.\"This partnership has all of the skills and talent necessary to overcome the enormous technological challenges ahead and commercialize self-driving vehicles. Therefore, we are already thinking in terms of scalability and welcome other companies -- manufacturers, suppliers or technology companies - to participate and contribute to our autonomous platform.\"The companies said they plan to begin testing by the end of this year, joining autonomous vehicles from Google´s Waymo, Uber and others being used in real-traffic situations.BMW Group will be responsible for driving control, safety and the production of the car platform.Intel will offer its Intel Go computing platform that uses a variety of sensors and other data to power the brains of the car.Mobileye will be using its proprietary EyeQ5 computer vision processor which gets input from the 360-degree surround view sensors as well as localization.\"From an industry perspective, we are already seeing savings and speed in development by sharing development costs and in pooling resources to develop a complete autonomous platform,\" Intel chief executive Brian Krzanich said.\"That´s why this partnership is breaking new ground. We have established a dedicated team with clear, shared goals and a culture of innovation and agility and accountability.\"<br/> ',\n",
       "  'score': 0.3199347257614136},\n",
       " {'id': '223',\n",
       "  'text': 'Microsoft began rolling out its Windows 10 operating system Wednesday, aiming to revive the tech giant´s fortunes, especially in mobile and the \"Internet of Things.\"The stakes are high for Microsoft as it pushes out the new operating system for both traditional computers and mobile devices such as tablets and smartphones.The US tech giant is hoping the new system can help it gain traction in mobile, where it lags behind Google Android and Apple iOS.\"Our vision was one platform, one store, and one experience that extends across the broadest range of devices from the smallest screens to the largest screens to no screens at all,\" said Microsoft executive vice president for Windows Terry Myerson in a blog post.\"Windows 10 begins to deliver on our vision for more personal computing. In this world experiences are mobile, moving with you seamlessly and easily across your devices. Interacting with technology is as natural as interacting with people -- using voice, pen, gestures and even gaze for the right interaction, in the right way, at the right time. And in our connected and transparent world, we respect your privacy and help protect your information.\"Forrester Research analyst Frank Gillett said Microsoft faces a tough task in catching up with Google and Apple in the mobile space.\"Microsoft will face a long road ahead to gain Windows share in mobile,\" he said.\"While it will win a growing share of enterprise tablet purchases, the plans for Windows 10 don´t show enough potential to create a differentiated mobile experience that will draw developers and customers away from iOS and Android.\"Richard Edwards, analyst at the consultancy Ovum, said Microsoft is looking beyond mobile to emerging technologies including wearables and other connected devices.\"This isn´t about recapturing the important mobile operating systems market,\" Edwards said.\"It´s about gaining a strong foothold in the next multibillion dollar market: the ´Internet of Things.´\"- Skipping to Windows 10 -Windows 10 -- Microsoft skipped directly from Windows 8, which got a lackluster response -- is being offered as a free upgrade for most devices, making it possible to be available quickly on billions of devices.It will allow for voice, pen and gesture input, and in some cases biometric identification for improved security.The Cortana virtual assistant -- Microsoft´s answer to Apple´s Siri and Google Now -- will also be integrated.And Windows 10 will include the Microsoft Edge browser, a move designed to help the tech giant regain market share lost to rivals such as Mozilla Firefox and Google Chrome.Microsoft hopes to break the cycle in which consumers shun Windows for mobile because it lacks the large catalog of applications found on rival platforms, thus discouraging app makers from creating Windows versions.Hit apps could ramp up popularity of Windows-driven hardware made by Microsoft and its partners, and increase opportunities for the company to make money from online activities such as search, shopping and software as services in the Internet cloud.With Windows 10 and other products, Microsoft is shifting away from one-time software sales to a subscription model -- or software as a service -- in an effort to better compete in the new tech landscape.Bob O´Donnell at the research firm Technalysis said the new operating system may help stimulate new sales of computers and other hardware -- a phenomenon of the past which has been absent in recent Windows releases.\"I´m still hopeful that the PC industry will see some decent upside from Windows 10, particularly in the fourth quarter of this year and into 2016,\" he said.\"The primary reason for my optimism is that Microsoft has actually integrated quite a few new capabilities into Windows 10 that will benefit from new hardware.\" \\r\\n\\r\\n\\r\\n\\r\\n\\r\\n\\r\\n\\r\\n\\r\\n\\r\\n\\r\\n\\r\\n',\n",
       "  'score': 0.295560747385025},\n",
       " {'id': '248',\n",
       "  'text': 'Suddenly the online news business is red-hot. Money is flowing into digital news ventures at an unprecedented pace, as investors anticipate an accelerating shift away from traditional media, and new ways to generate revenue from news.BuzzFeed made news this past week with a $200 million capital injection from Comcast´s NBCUniversal, and with the announcement of a joint venture with Yahoo Japan for Japanese readers.Earlier this month, Vox Media also secured $200 million from NBCU as the startup seeks to ramp up its news websites including Vox.com, The Verge, Re/code and Bleacher Report.Vox and BuzzFeed joined the club of \"unicorns,\" or venture-funded startups worth at least $1 billion, a group which also includes Vice Media, which unveiled a $500 million funding round last year.The flood of capital to the sector suggests confidence in the ability of digital media to connect with readers -- especially younger audiences which eschew traditional media -- and generate profits, say analysts.\"Right now it´s an arms race. These are companies growing quickly and they have to grow quickly,\" said Ken Doctor, a media analyst with the research firm Outsell.Doctor said a key for these organization is capturing the attention of \"millennials,\" or young adults born after 1980 who rarely subscribe to print publications or cable television, and who get most of their content online.\"Marketers have discovered the millennial generation as they get more earning power,\" he told AFP.Interestingly, much of the money flowing into these organizations is coming from traditional media, seeking fresh ways to deal with a transition to digital news.The Murdoch family´s 21st Century Fox is an investor in Vice Media, for example, while Time Warner has invested in the online news site Mashable.\"It´s as much a hedge as anything else,\" Doctor said.\"It´s a lot of money but not a bank-breaking amount.\"Digital eats everything The analyst added that big media groups which saw troubles for print a decade ago are now waking up to digital disruption of television.With consumers slowly moving away from cable TV bundles, \"you can see the fault lines,\" Doctor said. \"Digital eats everything, and television is not immune.\"The more successful media startups have found ways to connect and use technology better than legacy firms, say some analysts.\"BuzzFeed and Vox and other high-profile startups make the claim they are not just content companies, they are tech companies,\" says Nikki Usher Layser, a journalism professor at George Washington University specializing in digital media.This means \"using data science to understand how information is spreading\" and being shared, she said, to better adapt news feeds and enable advertisers to reach specific segments of readers.BuzzFeed is known for using technology to help understand how news goes viral, while Mashable uses its own system for this. AOL, which owns news sites such as The Huffington Post and TechCrunch, is known for ad technology which measures effectiveness of online messages. Old, new media mergeRebecca Lieb, an independent media analyst and consultant, said she sees benefits from bringing old and new media together.Comcast´s NBC can reach young audiences by sharing video from programming including the Olympic Games.\"We´re seeing an era of declining television viewership and increased cord cutting,\" she told AFP.\"We have a large number of millennials who are never going to sign up for television packages so I´m sure NBC is hoping that BuzzFeed can help drive new audiences.\"For journalism, the good news is that this trend is driving investment in content, which means more hiring and in-depth reporting at a time when traditional newsroom job losses are accelerating.These large venture-funded news groups have been adding staff, along with smaller ones like Ozy, Fusion and Vocativ. Additionally, eBay founder Pierre Omidyar has pledged to invest $250 million in his online news operations, which include investigative site The Intercept.Doctor said most new media groups spend 60 to 70 percent of their budgets on news and content compared with just 12 percent for the newspaper industry.\"These companies have a belief that good content and appropriate content is a business driver,\" Doctor said.Still, it remains unclear if the companies are seeing an investment bubble which gives them unjustifiably high valuations.\"We have seen scant evidence of actual return of money to investors,\" Layser said. \"We have not seen a magic bullet that is going to make a clear pathway to profitability.\" \\r\\n\\r\\n\\r\\n\\r\\n\\r\\n\\r\\n\\r\\n\\r\\n\\r\\n\\r\\n\\r\\n',\n",
       "  'score': 0.2689305543899536},\n",
       " {'id': '430',\n",
       "  'text': 'Indian Prime Minister Narendra Modi launched a number of initiatives on Saturday to support the country´s start-ups, including a 100 billion rupee ($1.5 billion) fund and a string of tax breaks for both the companies and their investors.India, which already has a handful of new generation success stories, is seeking to encourage more cutting edge technology and other start-ups - supporting new businesses in a country which badly needs to accelerate a still sluggish economic recovery and create millions of jobs as the workforce expands.Modi´s high-profile event in New Delhi - attended by hundreds of investors and entrepreneurs, including the founder of taxi-hailing app Uber, Travis Kalanick - promised a shot in the arm for the sector, with exemptions from tax and compliance inspections for three years.\"I urge all entrepreneurs to create companies that solve India´s problems and create jobs,\" he told a packed auditorium in New Delhi, speaking in Hindi.\"Start-up does not mean a billion dollar company where thousands of people work. It is about employing even 5 people, and developing India.\"Online companies such as e-commerce marketplaces Flipkart and Snapdeal, along with ride-sharing company Ola, have highlighted the potential for home-grown technology successes in a country best known for capitalising on cheap engineering talent as the world´s back office.However, the push by Modi´s government is the first time Indian policymakers have announced an agenda directly aimed at promoting start-ups and entrepreneurship.Modi unveiled plans for a new 100 billion rupee fund: a structured fund of funds that will invest in venture capital funds over a period of four years, financed by the government and the state-owned Life Insurance Corporation (LIC).He also said start-up companies would benefit from cheaper and faster patent applications, enjoying 80 percent rebates on the cost of patents.A mobile app would allow companies to be set up within a day, he promised.Moreover, they will be exempt from income tax for the first three years in which they make a profit.Their investors could also benefit: recognised funds of funds could see exemptions<br/>from capital gains tax, Modi said.The announcements, at a government-organised conference on start-ups in New Delhi, come months after Modi made a whirlwind tour of Silicon Valley, meeting the chief executives of Facebook Inc, Google Inc and Apple Inc.India, with a rapidly expanding population of Internet users, is seen as one of the world´s fastest growing start-up hotspots.Venture capital funds including Sequoia and Tiger Global have raised multi-billion dollar funds for their Indian investments in recent years.The National Association of Software and Services Companies estimates the number of new companies launched in India grew by 40 percent in the last year.Earlier on Saturday, Japan´s Softbank said it would \"seriously\" accelerate investments in India, comparing the growth in India´s internet economy to China a decade ago.Softbank had previously said it would invest $10 billion in India over 10 years.WeWork, a New York-based provider of shared office space, used the conference to announce its Indian launch plans.',\n",
       "  'score': 0.26466938853263855}]"
      ]
     },
     "execution_count": 9,
     "metadata": {},
     "output_type": "execute_result"
    }
   ],
   "source": [
    "# Run an embeddings search for each query \n",
    "query = \"Science and technology\"\n",
    "num_results = 5\n",
    "results = embeddings.search(query, num_results)\n",
    "results"
   ]
  }
 ],
 "metadata": {
  "kernelspec": {
   "display_name": "Python 3",
   "language": "python",
   "name": "python3"
  },
  "language_info": {
   "codemirror_mode": {
    "name": "ipython",
    "version": 3
   },
   "file_extension": ".py",
   "mimetype": "text/x-python",
   "name": "python",
   "nbconvert_exporter": "python",
   "pygments_lexer": "ipython3",
   "version": "3.10.12"
  }
 },
 "nbformat": 4,
 "nbformat_minor": 2
}

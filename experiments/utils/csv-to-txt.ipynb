{
 "cells": [
  {
   "cell_type": "code",
   "execution_count": 1,
   "metadata": {},
   "outputs": [],
   "source": [
    "import pandas as pd\n",
    "\n",
    "FOLDER_PATH = '../datasets'\n",
    "CSV_FILE_NAME = 'Articles.csv'\n",
    "NUMBER_OF_FILES = 5\n",
    "TEXT_COLUMN_NAME = 'Article'\n",
    "\n",
    "# use utf-8 encoding to avoid UnicodeDecodeError\n",
    "df = pd.read_csv(f'{FOLDER_PATH}/{CSV_FILE_NAME}', encoding='latin1')\n",
    "df\n",
    "\n",
    "for i in range(0, NUMBER_OF_FILES or len(df)):\n",
    "    with open(f'{FOLDER_PATH}/{i}.txt', 'w') as f:\n",
    "        f.write(df[TEXT_COLUMN_NAME][i])"
   ]
  }
 ],
 "metadata": {
  "kernelspec": {
   "display_name": "Python 3",
   "language": "python",
   "name": "python3"
  },
  "language_info": {
   "codemirror_mode": {
    "name": "ipython",
    "version": 3
   },
   "file_extension": ".py",
   "mimetype": "text/x-python",
   "name": "python",
   "nbconvert_exporter": "python",
   "pygments_lexer": "ipython3",
   "version": "3.10.12"
  }
 },
 "nbformat": 4,
 "nbformat_minor": 2
}
